{
 "cells": [
  {
   "cell_type": "code",
   "execution_count": 6,
   "id": "3c111cfc-bb2b-480d-8c26-6cbc5eabdf61",
   "metadata": {},
   "outputs": [],
   "source": [
    "import smtplib\n",
    "\n",
    "my_email = \"tomarneetu2011@gmail.com\"\n",
    "password = \"uino pjvt flvj hnkf\"\n",
    "\n",
    "with smtplib.SMTP(\"smtp.gmail.com\") as connection:\n",
    "    connection.starttls()\n",
    "    connection.login(user=my_email, password=password)\n",
    "    connection.sendmail(from_addr=my_email, \n",
    "                        to_addrs=\"lakshikatomar81@gmail.com\", \n",
    "                        msg=\"Subject:Hello\\n\\n This is the body of my email. \"\n",
    "                       )\n"
   ]
  },
  {
   "cell_type": "code",
   "execution_count": 12,
   "id": "b8896846-e96e-4346-9805-a7cea47d44f5",
   "metadata": {},
   "outputs": [
    {
     "name": "stdout",
     "output_type": "stream",
     "text": [
      "1\n",
      "2006-07-19 00:00:00\n"
     ]
    }
   ],
   "source": [
    "import datetime as dt\n",
    "\n",
    "now = dt.datetime.now()\n",
    "year = now.year\n",
    "month = now.month\n",
    "day_of_week = now.weekday()\n",
    "print(day_of_week)\n",
    "\n",
    "\n",
    "date_of_birth = dt.datetime(year=2006, month=7, day=19)\n",
    "print(date_of_birth)\n"
   ]
  },
  {
   "cell_type": "code",
   "execution_count": 15,
   "id": "6cb66d85-6b42-4f90-8c00-28bc803306e0",
   "metadata": {},
   "outputs": [
    {
     "name": "stdout",
     "output_type": "stream",
     "text": [
      "\"Don't let what you cannot do interfere with what you can do.\" - John R. Wooden\n",
      "\n"
     ]
    }
   ],
   "source": [
    "import smtplib\n",
    "import datetime as dt\n",
    "import random\n",
    "\n",
    "MY_EMAIL = \"tomarneetu2011@gmail.com\"\n",
    "MY_PASSWORD = \"uino pjvt flvj hnkf\"\n",
    "\n",
    "\n",
    "now = dt.datetime.now()\n",
    "weekday = now.weekday()\n",
    "if weekday == 1:\n",
    "    with open(\"quotes.txt\") as quote_file:\n",
    "        all_quotes = quote_file.readlines()\n",
    "        quote = random.choice(all_quotes)\n",
    "\n",
    "    print(quote)\n",
    "\n",
    "    with smtplib.SMTP(\"smtp.gmail.com\") as connection:\n",
    "        connection.starttls()\n",
    "        connection.login(MY_EMAIL, MY_PASSWORD)    \n",
    "        connection.sendmail(from_addr=MY_EMAIL, \n",
    "                        to_addrs=MY_EMAIL, \n",
    "                        msg=f\"Subject: Monday Motivation \\n\\n{quote} \"\n",
    "                       )    "
   ]
  },
  {
   "cell_type": "code",
   "execution_count": null,
   "id": "cee8f6b1-f618-42f1-a548-6d3c825a15ce",
   "metadata": {},
   "outputs": [],
   "source": []
  }
 ],
 "metadata": {
  "kernelspec": {
   "display_name": "Python 3 (ipykernel)",
   "language": "python",
   "name": "python3"
  },
  "language_info": {
   "codemirror_mode": {
    "name": "ipython",
    "version": 3
   },
   "file_extension": ".py",
   "mimetype": "text/x-python",
   "name": "python",
   "nbconvert_exporter": "python",
   "pygments_lexer": "ipython3",
   "version": "3.13.3"
  }
 },
 "nbformat": 4,
 "nbformat_minor": 5
}
