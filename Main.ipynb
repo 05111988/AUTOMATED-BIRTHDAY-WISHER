{
 "cells": [
  {
   "cell_type": "code",
   "execution_count": 3,
   "id": "20f89a68-d5ff-4e13-b33b-b4a6cb4ac4e1",
   "metadata": {},
   "outputs": [],
   "source": [
    "from datetime import datetime\n",
    "import pandas\n",
    "import random\n",
    "import smtplib\n",
    "\n",
    "my_email = \"tomarneetu2011@gmail.com\"\n",
    "password = \"uino pjvt flvj hnkf\"\n",
    "\n",
    "\n",
    "today = datetime.now()\n",
    "today_tuple = (today.month, today.day)\n",
    "\n",
    "\n",
    "data = pandas.read_csv(\"birthdays.csv\")\n",
    "birthdays_dict = {(data_row[\"month\"], data_row[\"day\"]): data_row for (index, data_row) in data.iterrows()}\n",
    "\n",
    "\n",
    "if today_tuple in birthdays_dict:\n",
    "    birthday_person = birthdays_dict[today_tuple]\n",
    "    file_path = f\"letter_templates/letter_{random.randint(1,3)}.txt\"\n",
    "    with open (file_path) as letter_file:\n",
    "        contents = letter_file.read()\n",
    "        contents = contents.replace(\"[NAME]\", birthday_person[\"name\"])\n",
    "\n",
    "    with stmplib.STMP(\"stmp.gmail.com\") as connection:\n",
    "        connection.starttls()\n",
    "        connection.login(MY_EMAIL, MY_PASSWORD)\n",
    "        connection.sendmail(from_addr=MY_EMAIL,\n",
    "                            to_addrs=birthday_person[\"email\"],\n",
    "                            msg=f\"Subject:Happy Birthday\\n\\n{contents}\")\n",
    "    "
   ]
  },
  {
   "cell_type": "code",
   "execution_count": null,
   "id": "cf5bdaef-8864-4871-8535-c08243b79ecb",
   "metadata": {},
   "outputs": [],
   "source": []
  }
 ],
 "metadata": {
  "kernelspec": {
   "display_name": "Python 3 (ipykernel)",
   "language": "python",
   "name": "python3"
  },
  "language_info": {
   "codemirror_mode": {
    "name": "ipython",
    "version": 3
   },
   "file_extension": ".py",
   "mimetype": "text/x-python",
   "name": "python",
   "nbconvert_exporter": "python",
   "pygments_lexer": "ipython3",
   "version": "3.13.3"
  }
 },
 "nbformat": 4,
 "nbformat_minor": 5
}
